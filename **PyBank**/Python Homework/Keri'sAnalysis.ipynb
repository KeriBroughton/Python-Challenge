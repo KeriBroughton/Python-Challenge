{
 "cells": [
  {
   "cell_type": "code",
   "execution_count": 41,
   "metadata": {},
   "outputs": [],
   "source": [
    "import csv\n",
    "f1 = open('budget_data_2.csv')\n",
    "csv_f1 = csv.reader(f1)"
   ]
  },
  {
   "cell_type": "code",
   "execution_count": 42,
   "metadata": {},
   "outputs": [],
   "source": [
    "file_to_load = \"budget_data_2.csv\"\n",
    "file_to_output = \"Keri_Analysis.py\""
   ]
  },
  {
   "cell_type": "code",
   "execution_count": 43,
   "metadata": {},
   "outputs": [],
   "source": [
    "total_months = 0\n",
    "net_total_amount = 0\n",
    "average_change = []\n",
    "previous_change = 0\n",
    "change_month = []\n",
    "greatest_increase = [\"\", 0]\n",
    "greatest_decrease = [\"\", 999999999999999999]"
   ]
  },
  {
   "cell_type": "code",
   "execution_count": 44,
   "metadata": {},
   "outputs": [],
   "source": [
    "with open(file_to_load) as revenue_data:\n",
    "    reader = csv.DictReader(revenue_data)\n",
    "    \n",
    "    for row in reader:\n",
    "        total_months = total_months + 1\n",
    "        net_total_amount = net_total_amount + int(row[\"Profit/Losses\"])\n",
    "        average_change = int(row[\"Profit/Losses\"]) - previous_change\n",
    "        previous_change = int(row[\"Profit/Losses\"])\n",
    "        change_month = change_month + [row[\"Date\"]]\n",
    "        \n",
    "    if (average_change > greatest_increase[1]):\n",
    "            greatest_increase[0] = row[\"Date\"]\n",
    "            greatest_increase[1] = average_change\n",
    "    if (average_change < greatest_decrease[1]):\n",
    "        greatest_decrease[0] = row[\"Date\"]\n",
    "        greatest_decrease[1] = average_change"
   ]
  },
  {
   "cell_type": "code",
   "execution_count": 45,
   "metadata": {},
   "outputs": [],
   "source": [
    "output = (\n",
    "    f\"\\nFinancial Analysis\\n\"\n",
    "    f\"Total Months: {total_months}\\n\"\n",
    "    f\"Net Total Amount: {net_total_amount}\\n\"\n",
    "    f\"Average Change: {average_change}\\n\"\n",
    "    f\"Greatest Increase in Profits:{greatest_increase}\\n\"\n",
    "    f\"Greatest Decrease in Profits:{greatest_decrease}\\n\"\n",
    ")    "
   ]
  },
  {
   "cell_type": "code",
   "execution_count": 46,
   "metadata": {},
   "outputs": [
    {
     "name": "stdout",
     "output_type": "stream",
     "text": [
      "\n",
      "Financial Analysis\n",
      "Total Months: 86\n",
      "Net Total Amount: 38382578\n",
      "Average Change: 532869\n",
      "Greatest Increase in Profits:['Feb-2017', 532869]\n",
      "Greatest Decrease in Profits:['Feb-2017', 532869]\n",
      "\n"
     ]
    }
   ],
   "source": [
    "print(output)"
   ]
  },
  {
   "cell_type": "code",
   "execution_count": 47,
   "metadata": {},
   "outputs": [
    {
     "ename": "ValueError",
     "evalue": "invalid mode: 'Keri'sPythonPyBankAnalysis'",
     "output_type": "error",
     "traceback": [
      "\u001b[0;31m---------------------------------------------------------------------------\u001b[0m",
      "\u001b[0;31mValueError\u001b[0m                                Traceback (most recent call last)",
      "\u001b[0;32m<ipython-input-47-27b46a535189>\u001b[0m in \u001b[0;36m<module>\u001b[0;34m\u001b[0m\n\u001b[0;32m----> 1\u001b[0;31m \u001b[0;32mwith\u001b[0m \u001b[0mopen\u001b[0m\u001b[0;34m(\u001b[0m\u001b[0mfile_to_output\u001b[0m\u001b[0;34m,\u001b[0m \u001b[0;34m\"Keri'sPythonPyBankAnalysis\"\u001b[0m\u001b[0;34m)\u001b[0m \u001b[0;32mas\u001b[0m \u001b[0mtxt_file\u001b[0m\u001b[0;34m:\u001b[0m\u001b[0;34m\u001b[0m\u001b[0;34m\u001b[0m\u001b[0m\n\u001b[0m\u001b[1;32m      2\u001b[0m     \u001b[0mtxt_file\u001b[0m\u001b[0;34m.\u001b[0m\u001b[0mwrite\u001b[0m\u001b[0;34m(\u001b[0m\u001b[0moutput\u001b[0m\u001b[0;34m)\u001b[0m\u001b[0;34m\u001b[0m\u001b[0;34m\u001b[0m\u001b[0m\n",
      "\u001b[0;31mValueError\u001b[0m: invalid mode: 'Keri'sPythonPyBankAnalysis'"
     ]
    }
   ],
   "source": [
    "with open(file_to_output, \"Keri'sPythonPyBankAnalysis\") as txt_file:\n",
    "    txt_file.write(output)"
   ]
  },
  {
   "cell_type": "code",
   "execution_count": null,
   "metadata": {},
   "outputs": [],
   "source": []
  }
 ],
 "metadata": {
  "kernelspec": {
   "display_name": "Python 3",
   "language": "python",
   "name": "python3"
  },
  "language_info": {
   "codemirror_mode": {
    "name": "ipython",
    "version": 3
   },
   "file_extension": ".py",
   "mimetype": "text/x-python",
   "name": "python",
   "nbconvert_exporter": "python",
   "pygments_lexer": "ipython3",
   "version": "3.7.3"
  }
 },
 "nbformat": 4,
 "nbformat_minor": 4
}
