{
 "cells": [
  {
   "cell_type": "code",
   "execution_count": 92,
   "metadata": {},
   "outputs": [],
   "source": [
    "import csv\n",
    "f1 = open('election_data_3.csv')\n",
    "csv_f1 = csv.reader(f1)"
   ]
  },
  {
   "cell_type": "code",
   "execution_count": 93,
   "metadata": {},
   "outputs": [],
   "source": [
    "file_to_load = \"election_data_3.csv\""
   ]
  },
  {
   "cell_type": "code",
   "execution_count": 94,
   "metadata": {},
   "outputs": [],
   "source": [
    "total_votes = 0\n",
    "candidate_votes = {}\n",
    "candidate_choices = []\n",
    "winner = \"\"\n",
    "winner_number = 0"
   ]
  },
  {
   "cell_type": "code",
   "execution_count": 95,
   "metadata": {},
   "outputs": [],
   "source": [
    "with open(file_to_load) as election_data:\n",
    "    reader = csv.DictReader(election_data)\n",
    "    for row in reader:\n",
    "        total_votes = total_votes + 1\n",
    "        name_of_candidate = row[\"Candidate\"]\n",
    "        \n",
    "        if name_of_candidate not in candidate_choices:\n",
    "            candidate_choices.append(name_of_candidate)\n",
    "            candidate_votes[name_of_candidate] = 0\n",
    "        candidate_votes[name_of_candidate] = candidate_votes[name_of_candidate] + 1\n",
    "    "
   ]
  },
  {
   "cell_type": "code",
   "execution_count": 96,
   "metadata": {},
   "outputs": [
    {
     "name": "stdout",
     "output_type": "stream",
     "text": [
      "\n",
      "\n",
      "Election Results\n",
      "---------\n",
      "Total Votes: 3521001\n",
      "------------\n",
      "\n",
      "Khan: 63.000% (2218231)\n",
      "\n",
      "Correy: 20.000% (704200)\n",
      "\n",
      "Li: 14.000% (492940)\n",
      "\n",
      "O'Tooley: 3.000% (105630)\n",
      "\n",
      "---------\n",
      "Winner: Khan\n",
      "---------\n",
      "\n"
     ]
    }
   ],
   "source": [
    "output = (f\"\\n\\nElection Results\\n\"\n",
    "          f\"---------\\n\" \n",
    "          f\"Total Votes: {total_votes}\\n\" \n",
    "          f\"------------\\n\")\n",
    "print(output)\n",
    "for candidate in candidate_votes:\n",
    "        votes = candidate_votes.get(candidate)\n",
    "        vote_percentage = float(votes) / float(total_votes) * 100\n",
    "        if (votes > winner_number):\n",
    "            winner_number = votes\n",
    "            winner = candidate\n",
    "        voter_output = f\"{candidate}: {vote_percentage:.3f}% ({votes})\\n\"\n",
    "        print(voter_output)\n",
    "        \n",
    "winner_list = (\n",
    "        f\"---------\\n\"\n",
    "        f\"Winner: {winner}\\n\"\n",
    "        f\"---------\\n\"\n",
    ")\n",
    "print(winner_list)"
   ]
  },
  {
   "cell_type": "code",
   "execution_count": null,
   "metadata": {},
   "outputs": [],
   "source": []
  },
  {
   "cell_type": "code",
   "execution_count": null,
   "metadata": {},
   "outputs": [],
   "source": []
  }
 ],
 "metadata": {
  "kernelspec": {
   "display_name": "Python 3",
   "language": "python",
   "name": "python3"
  },
  "language_info": {
   "codemirror_mode": {
    "name": "ipython",
    "version": 3
   },
   "file_extension": ".py",
   "mimetype": "text/x-python",
   "name": "python",
   "nbconvert_exporter": "python",
   "pygments_lexer": "ipython3",
   "version": "3.7.3"
  }
 },
 "nbformat": 4,
 "nbformat_minor": 4
}
